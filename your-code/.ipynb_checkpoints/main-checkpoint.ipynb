{
 "cells": [
  {
   "cell_type": "markdown",
   "metadata": {},
   "source": [
    "# Challenge: Promotions\n",
    "\n",
    "In this challenge, you'll develop codes to parse and analyze data returned from another API on Zalando such as [Promos homme (Men's Promotions)\n",
    "](https://www.zalando.fr/promo-homme/) or [Promos femme (Women's Promotions)](https://www.zalando.fr/promo-femme/). The workflow is almost the same as in the guided lesson but you'll work with different data."
   ]
  },
  {
   "cell_type": "markdown",
   "metadata": {},
   "source": [
    "## Obtaining the link\n",
    "\n",
    "Wrote your codes in the cell below to obtain the data from the API endpoint you choose. A recap of the workflow:\n",
    "\n",
    "1. Examine the webpages and choose one that you want to work with.\n",
    "\n",
    "1. Use Google Chrome's DevTools to inspect the XHR network requests. Find out the API endpoint that serves data to the webpage.\n",
    "\n",
    "1. Test the API endpoint in the browser to verify its data.\n",
    "\n",
    "1. Change the page number offset of the API URL to test if it's working."
   ]
  },
  {
   "cell_type": "code",
   "execution_count": 2,
   "metadata": {},
   "outputs": [],
   "source": [
    "# your code here\n",
    "zalando_url = 'https://www.zalando.fr/api/catalog/articles?categories=promo-femme&limit=84&offset=0'"
   ]
  },
  {
   "cell_type": "markdown",
   "metadata": {},
   "source": [
    "## Reading the data\n",
    "\n",
    "In the next cell, use Python to obtain data from the API endpoint you chose in the previous step. Workflow:\n",
    "\n",
    "1. Import libraries.\n",
    "\n",
    "1. Define the initial API endpoint URL.\n",
    "\n",
    "1. Make request to obtain data of the 1st page. Flatten the data and store it in an empty object variable.\n",
    "\n",
    "1. Find out the total page count in the 1st page data.\n",
    "\n",
    "1. Use a FOR loop to make requests for the additional pages from 2 to page count. Append the data of each additional page to the flatterned data object.\n",
    "\n",
    "1. Print and review the data you obtained."
   ]
  },
  {
   "cell_type": "code",
   "execution_count": 1,
   "metadata": {},
   "outputs": [],
   "source": [
    "# 1. importing the libraries\n",
    "import json\n",
    "import requests\n",
    "import pandas as pd\n",
    "from pandas.io.json import json_normalize"
   ]
  },
  {
   "cell_type": "code",
   "execution_count": 2,
   "metadata": {},
   "outputs": [],
   "source": [
    "# 2. defining the URL\n",
    "zalando_url = 'https://www.zalando.fr/api/catalog/articles?categories=promo-femme&limit=84&offset=0'"
   ]
  },
  {
   "cell_type": "code",
   "execution_count": 3,
   "metadata": {},
   "outputs": [],
   "source": [
    "# defining the headers: \n",
    "headers = {\n",
    "    'User-Agent': 'Mozilla/5.0 (Windows NT 10.0; Win64; x64) AppleWebKit/537.36 (KHTML, like Gecko) Chrome/89.0.4389.82 Safari/537.36'\n",
    "}"
   ]
  },
  {
   "cell_type": "code",
   "execution_count": 4,
   "metadata": {},
   "outputs": [],
   "source": [
    "# 3. Make request to obtain data of the 1st page\n",
    "request = requests.get(zalando_url, headers=headers).json()"
   ]
  },
  {
   "cell_type": "code",
   "execution_count": 5,
   "metadata": {},
   "outputs": [],
   "source": [
    "# Flatten the data and store it in an empty object variable.\n",
    "df = pd.json_normalize(request['articles'])"
   ]
  },
  {
   "cell_type": "code",
   "execution_count": 6,
   "metadata": {},
   "outputs": [
    {
     "data": {
      "text/plain": [
       "{'page_count': 892, 'current_page': 1, 'per_page': 84}"
      ]
     },
     "execution_count": 6,
     "metadata": {},
     "output_type": "execute_result"
    }
   ],
   "source": [
    "# 4. Find out the total page count in the 1st page data.\n",
    "request['pagination']"
   ]
  },
  {
   "cell_type": "code",
   "execution_count": 8,
   "metadata": {},
   "outputs": [
    {
     "data": {
      "text/plain": [
       "['https://www.zalando.fr/api/catalog/articles?categories=promo-femme&limit=84&offset=74592',\n",
       " 'https://www.zalando.fr/api/catalog/articles?categories=promo-femme&limit=84&offset=74676',\n",
       " 'https://www.zalando.fr/api/catalog/articles?categories=promo-femme&limit=84&offset=74760',\n",
       " 'https://www.zalando.fr/api/catalog/articles?categories=promo-femme&limit=84&offset=74844']"
      ]
     },
     "execution_count": 8,
     "metadata": {},
     "output_type": "execute_result"
    }
   ],
   "source": [
    "# creating urls for every page\n",
    "url_list = []\n",
    "offsets = [(x*84) for x in range(892)]\n",
    "for page_number in offsets: \n",
    "    url_list.append(f'https://www.zalando.fr/api/catalog/articles?categories=promo-femme&limit=84&offset={page_number}')      \n",
    "url_list[888:]"
   ]
  },
  {
   "cell_type": "code",
   "execution_count": 9,
   "metadata": {},
   "outputs": [],
   "source": [
    "#Use a FOR loop to make requests for the additional pages from 2 to page count. \n",
    "#Append the data of each additional page to the flatterned data object.\n",
    "#I had to transform the df_flattened into a list because otherwise I was getting an error\n",
    "appended_data = []\n",
    "for url in url_list:\n",
    "    data = pd.json_normalize(requests.get(url, headers=headers).json()['articles'])\n",
    "    appended_data.append(data)"
   ]
  },
  {
   "cell_type": "code",
   "execution_count": 10,
   "metadata": {},
   "outputs": [],
   "source": [
    "df2 = pd.concat(appended_data)"
   ]
  },
  {
   "cell_type": "code",
   "execution_count": 20,
   "metadata": {},
   "outputs": [
    {
     "data": {
      "text/plain": [
       "(74928, 25)"
      ]
     },
     "execution_count": 20,
     "metadata": {},
     "output_type": "execute_result"
    }
   ],
   "source": [
    "df2.shape"
   ]
  },
  {
   "cell_type": "code",
   "execution_count": 26,
   "metadata": {},
   "outputs": [
    {
     "name": "stdout",
     "output_type": "stream",
     "text": [
      "<class 'pandas.core.frame.DataFrame'>\n",
      "Int64Index: 74928 entries, 0 to 83\n",
      "Data columns (total 25 columns):\n",
      " #   Column                                        Non-Null Count  Dtype \n",
      "---  ------                                        --------------  ----- \n",
      " 0   sku                                           74928 non-null  object\n",
      " 1   name                                          74928 non-null  object\n",
      " 2   sizes                                         74928 non-null  object\n",
      " 3   url_key                                       74928 non-null  object\n",
      " 4   media                                         74928 non-null  object\n",
      " 5   brand_name                                    74928 non-null  object\n",
      " 6   is_premium                                    74928 non-null  bool  \n",
      " 7   family_articles                               74928 non-null  object\n",
      " 8   flags                                         74928 non-null  object\n",
      " 9   product_group                                 74928 non-null  object\n",
      " 10  delivery_promises                             74928 non-null  object\n",
      " 11  price.original                                74928 non-null  object\n",
      " 12  price.promotional                             74928 non-null  object\n",
      " 13  price.has_different_prices                    74928 non-null  bool  \n",
      " 14  price.has_different_original_prices           74928 non-null  bool  \n",
      " 15  price.has_different_promotional_prices        74928 non-null  bool  \n",
      " 16  price.has_discount_on_selected_sizes_only     74928 non-null  bool  \n",
      " 17  tracking_information.metrigo_impression_urls  9 non-null      object\n",
      " 18  tracking_information.impression_beacon        9 non-null      object\n",
      " 19  tracking_information.source                   9 non-null      object\n",
      " 20  amount                                        4686 non-null   object\n",
      " 21  price.base_price                              3008 non-null   object\n",
      " 22  outfits                                       495 non-null    object\n",
      " 23  condition                                     207 non-null    object\n",
      " 24  condition_key                                 207 non-null    object\n",
      "dtypes: bool(5), object(20)\n",
      "memory usage: 12.4+ MB\n"
     ]
    }
   ],
   "source": [
    "df2.info()"
   ]
  },
  {
   "cell_type": "code",
   "execution_count": 21,
   "metadata": {},
   "outputs": [
    {
     "data": {
      "text/html": [
       "<div>\n",
       "<style scoped>\n",
       "    .dataframe tbody tr th:only-of-type {\n",
       "        vertical-align: middle;\n",
       "    }\n",
       "\n",
       "    .dataframe tbody tr th {\n",
       "        vertical-align: top;\n",
       "    }\n",
       "\n",
       "    .dataframe thead th {\n",
       "        text-align: right;\n",
       "    }\n",
       "</style>\n",
       "<table border=\"1\" class=\"dataframe\">\n",
       "  <thead>\n",
       "    <tr style=\"text-align: right;\">\n",
       "      <th></th>\n",
       "      <th>sku</th>\n",
       "      <th>name</th>\n",
       "      <th>sizes</th>\n",
       "      <th>url_key</th>\n",
       "      <th>media</th>\n",
       "      <th>brand_name</th>\n",
       "      <th>is_premium</th>\n",
       "      <th>family_articles</th>\n",
       "      <th>flags</th>\n",
       "      <th>product_group</th>\n",
       "      <th>...</th>\n",
       "      <th>price.has_different_promotional_prices</th>\n",
       "      <th>price.has_discount_on_selected_sizes_only</th>\n",
       "      <th>tracking_information.metrigo_impression_urls</th>\n",
       "      <th>tracking_information.impression_beacon</th>\n",
       "      <th>tracking_information.source</th>\n",
       "      <th>amount</th>\n",
       "      <th>price.base_price</th>\n",
       "      <th>outfits</th>\n",
       "      <th>condition</th>\n",
       "      <th>condition_key</th>\n",
       "    </tr>\n",
       "  </thead>\n",
       "  <tbody>\n",
       "    <tr>\n",
       "      <th>0</th>\n",
       "      <td>GS121D0BG-K11</td>\n",
       "      <td>EYBEN SLIM - T-shirt basique - sartho blue</td>\n",
       "      <td>[3XS, XXS, XS, S, M, L, XL]</td>\n",
       "      <td>g-star-eyben-slim-r-t-s-s-t-shirt-basique-gs12...</td>\n",
       "      <td>[{'path': 'spp-media-p1/be36674c481930a0b00e98...</td>\n",
       "      <td>G-Star</td>\n",
       "      <td>False</td>\n",
       "      <td>[]</td>\n",
       "      <td>[{'key': 'discountRate', 'value': 'Jusqu’à -25...</td>\n",
       "      <td>clothing</td>\n",
       "      <td>...</td>\n",
       "      <td>True</td>\n",
       "      <td>False</td>\n",
       "      <td>[https://ccp-et.adtechlab.zalan.do/event/sbv?z...</td>\n",
       "      <td>https://ccp-et.adtechlab.zalan.do/event/sbv?z=...</td>\n",
       "      <td>ccp</td>\n",
       "      <td>NaN</td>\n",
       "      <td>NaN</td>\n",
       "      <td>NaN</td>\n",
       "      <td>NaN</td>\n",
       "      <td>NaN</td>\n",
       "    </tr>\n",
       "    <tr>\n",
       "      <th>1</th>\n",
       "      <td>B2411N006-Q12</td>\n",
       "      <td>Bottines à lacets - black shiny</td>\n",
       "      <td>[37, 38, 39, 40, 41, 42]</td>\n",
       "      <td>british-knights-bottines-black-shiny-b2411n006...</td>\n",
       "      <td>[{'path': 'spp-media-p1/774b2a5c5afc3e24a5054d...</td>\n",
       "      <td>British Knights</td>\n",
       "      <td>False</td>\n",
       "      <td>[]</td>\n",
       "      <td>[{'key': 'discountRate', 'value': '-30%', 'tra...</td>\n",
       "      <td>shoe</td>\n",
       "      <td>...</td>\n",
       "      <td>False</td>\n",
       "      <td>False</td>\n",
       "      <td>[https://ccp-et.adtechlab.zalan.do/event/sbv?z...</td>\n",
       "      <td>https://ccp-et.adtechlab.zalan.do/event/sbv?z=...</td>\n",
       "      <td>ccp</td>\n",
       "      <td>NaN</td>\n",
       "      <td>NaN</td>\n",
       "      <td>NaN</td>\n",
       "      <td>NaN</td>\n",
       "      <td>NaN</td>\n",
       "    </tr>\n",
       "    <tr>\n",
       "      <th>2</th>\n",
       "      <td>DM121K00T-909</td>\n",
       "      <td>POCKET 3 PACK - Slip - black</td>\n",
       "      <td>[36/38, 40/42, 44/46]</td>\n",
       "      <td>dim-3-pack-slip-noir-dm121k00t-909</td>\n",
       "      <td>[{'path': 'spp-media-p1/b024d714e6e7314f9d7dbb...</td>\n",
       "      <td>DIM</td>\n",
       "      <td>False</td>\n",
       "      <td>[]</td>\n",
       "      <td>[{'key': 'discountRate', 'value': '-10%', 'tra...</td>\n",
       "      <td>underwear</td>\n",
       "      <td>...</td>\n",
       "      <td>False</td>\n",
       "      <td>False</td>\n",
       "      <td>[https://ccp-et.adtechlab.zalan.do/event/sbv?z...</td>\n",
       "      <td>https://ccp-et.adtechlab.zalan.do/event/sbv?z=...</td>\n",
       "      <td>ccp</td>\n",
       "      <td>NaN</td>\n",
       "      <td>NaN</td>\n",
       "      <td>NaN</td>\n",
       "      <td>NaN</td>\n",
       "      <td>NaN</td>\n",
       "    </tr>\n",
       "    <tr>\n",
       "      <th>3</th>\n",
       "      <td>LA251H01P-Q11</td>\n",
       "      <td>Cabas - noir</td>\n",
       "      <td>[One Size]</td>\n",
       "      <td>lacoste-cabas-black-la251h01p-q11</td>\n",
       "      <td>[{'path': 'spp-media-p1/9e976d99d30b39d98b4c59...</td>\n",
       "      <td>Lacoste</td>\n",
       "      <td>False</td>\n",
       "      <td>[]</td>\n",
       "      <td>[{'key': 'discountRate', 'value': '-30%', 'tra...</td>\n",
       "      <td>accessoires</td>\n",
       "      <td>...</td>\n",
       "      <td>False</td>\n",
       "      <td>False</td>\n",
       "      <td>NaN</td>\n",
       "      <td>NaN</td>\n",
       "      <td>NaN</td>\n",
       "      <td>NaN</td>\n",
       "      <td>NaN</td>\n",
       "      <td>NaN</td>\n",
       "      <td>NaN</td>\n",
       "      <td>NaN</td>\n",
       "    </tr>\n",
       "    <tr>\n",
       "      <th>4</th>\n",
       "      <td>EV941E03K-Q11</td>\n",
       "      <td>Collants - black</td>\n",
       "      <td>[XS, S, M, L, XL]</td>\n",
       "      <td>evenandodd-active-collants-black-ev941e03k-q11</td>\n",
       "      <td>[{'path': 'spp-media-p1/5e8c3b2e517d323e8b551a...</td>\n",
       "      <td>Even&amp;Odd active</td>\n",
       "      <td>False</td>\n",
       "      <td>[]</td>\n",
       "      <td>[{'key': 'discountRate', 'value': '-20%', 'tra...</td>\n",
       "      <td>clothing</td>\n",
       "      <td>...</td>\n",
       "      <td>False</td>\n",
       "      <td>False</td>\n",
       "      <td>NaN</td>\n",
       "      <td>NaN</td>\n",
       "      <td>NaN</td>\n",
       "      <td>NaN</td>\n",
       "      <td>NaN</td>\n",
       "      <td>NaN</td>\n",
       "      <td>NaN</td>\n",
       "      <td>NaN</td>\n",
       "    </tr>\n",
       "  </tbody>\n",
       "</table>\n",
       "<p>5 rows × 25 columns</p>\n",
       "</div>"
      ],
      "text/plain": [
       "             sku                                        name  \\\n",
       "0  GS121D0BG-K11  EYBEN SLIM - T-shirt basique - sartho blue   \n",
       "1  B2411N006-Q12             Bottines à lacets - black shiny   \n",
       "2  DM121K00T-909                POCKET 3 PACK - Slip - black   \n",
       "3  LA251H01P-Q11                                Cabas - noir   \n",
       "4  EV941E03K-Q11                            Collants - black   \n",
       "\n",
       "                         sizes  \\\n",
       "0  [3XS, XXS, XS, S, M, L, XL]   \n",
       "1     [37, 38, 39, 40, 41, 42]   \n",
       "2        [36/38, 40/42, 44/46]   \n",
       "3                   [One Size]   \n",
       "4            [XS, S, M, L, XL]   \n",
       "\n",
       "                                             url_key  \\\n",
       "0  g-star-eyben-slim-r-t-s-s-t-shirt-basique-gs12...   \n",
       "1  british-knights-bottines-black-shiny-b2411n006...   \n",
       "2                 dim-3-pack-slip-noir-dm121k00t-909   \n",
       "3                  lacoste-cabas-black-la251h01p-q11   \n",
       "4     evenandodd-active-collants-black-ev941e03k-q11   \n",
       "\n",
       "                                               media       brand_name  \\\n",
       "0  [{'path': 'spp-media-p1/be36674c481930a0b00e98...           G-Star   \n",
       "1  [{'path': 'spp-media-p1/774b2a5c5afc3e24a5054d...  British Knights   \n",
       "2  [{'path': 'spp-media-p1/b024d714e6e7314f9d7dbb...              DIM   \n",
       "3  [{'path': 'spp-media-p1/9e976d99d30b39d98b4c59...          Lacoste   \n",
       "4  [{'path': 'spp-media-p1/5e8c3b2e517d323e8b551a...  Even&Odd active   \n",
       "\n",
       "   is_premium family_articles  \\\n",
       "0       False              []   \n",
       "1       False              []   \n",
       "2       False              []   \n",
       "3       False              []   \n",
       "4       False              []   \n",
       "\n",
       "                                               flags product_group  ...  \\\n",
       "0  [{'key': 'discountRate', 'value': 'Jusqu’à -25...      clothing  ...   \n",
       "1  [{'key': 'discountRate', 'value': '-30%', 'tra...          shoe  ...   \n",
       "2  [{'key': 'discountRate', 'value': '-10%', 'tra...     underwear  ...   \n",
       "3  [{'key': 'discountRate', 'value': '-30%', 'tra...   accessoires  ...   \n",
       "4  [{'key': 'discountRate', 'value': '-20%', 'tra...      clothing  ...   \n",
       "\n",
       "  price.has_different_promotional_prices  \\\n",
       "0                                   True   \n",
       "1                                  False   \n",
       "2                                  False   \n",
       "3                                  False   \n",
       "4                                  False   \n",
       "\n",
       "  price.has_discount_on_selected_sizes_only  \\\n",
       "0                                     False   \n",
       "1                                     False   \n",
       "2                                     False   \n",
       "3                                     False   \n",
       "4                                     False   \n",
       "\n",
       "        tracking_information.metrigo_impression_urls  \\\n",
       "0  [https://ccp-et.adtechlab.zalan.do/event/sbv?z...   \n",
       "1  [https://ccp-et.adtechlab.zalan.do/event/sbv?z...   \n",
       "2  [https://ccp-et.adtechlab.zalan.do/event/sbv?z...   \n",
       "3                                                NaN   \n",
       "4                                                NaN   \n",
       "\n",
       "              tracking_information.impression_beacon  \\\n",
       "0  https://ccp-et.adtechlab.zalan.do/event/sbv?z=...   \n",
       "1  https://ccp-et.adtechlab.zalan.do/event/sbv?z=...   \n",
       "2  https://ccp-et.adtechlab.zalan.do/event/sbv?z=...   \n",
       "3                                                NaN   \n",
       "4                                                NaN   \n",
       "\n",
       "   tracking_information.source  amount  price.base_price outfits condition  \\\n",
       "0                          ccp     NaN               NaN     NaN       NaN   \n",
       "1                          ccp     NaN               NaN     NaN       NaN   \n",
       "2                          ccp     NaN               NaN     NaN       NaN   \n",
       "3                          NaN     NaN               NaN     NaN       NaN   \n",
       "4                          NaN     NaN               NaN     NaN       NaN   \n",
       "\n",
       "  condition_key  \n",
       "0           NaN  \n",
       "1           NaN  \n",
       "2           NaN  \n",
       "3           NaN  \n",
       "4           NaN  \n",
       "\n",
       "[5 rows x 25 columns]"
      ]
     },
     "execution_count": 21,
     "metadata": {},
     "output_type": "execute_result"
    }
   ],
   "source": [
    "df2.head()"
   ]
  },
  {
   "cell_type": "markdown",
   "metadata": {},
   "source": [
    "## Bonus\n",
    "\n",
    "Extract the following information from the data:\n",
    "\n",
    "* The trending brand.\n",
    "\n",
    "* The product(s) with the highest discount.\n",
    "\n",
    "* The sum of discounts of all goods (sum_discounted_prices divided by sum_original_prices)."
   ]
  },
  {
   "cell_type": "code",
   "execution_count": 25,
   "metadata": {},
   "outputs": [
    {
     "data": {
      "text/plain": [
       "brand_name\n",
       "Vero Moda    1545\n",
       "Name: sku, dtype: int64"
      ]
     },
     "execution_count": 25,
     "metadata": {},
     "output_type": "execute_result"
    }
   ],
   "source": [
    "# trending brand\n",
    "df2.groupby('brand_name').count()['sku'].sort_values(ascending=False).nlargest(1)"
   ]
  },
  {
   "cell_type": "code",
   "execution_count": null,
   "metadata": {},
   "outputs": [],
   "source": []
  }
 ],
 "metadata": {
  "kernelspec": {
   "display_name": "Python 3",
   "language": "python",
   "name": "python3"
  },
  "language_info": {
   "codemirror_mode": {
    "name": "ipython",
    "version": 3
   },
   "file_extension": ".py",
   "mimetype": "text/x-python",
   "name": "python",
   "nbconvert_exporter": "python",
   "pygments_lexer": "ipython3",
   "version": "3.9.1"
  },
  "toc": {
   "base_numbering": 1,
   "nav_menu": {},
   "number_sections": true,
   "sideBar": true,
   "skip_h1_title": false,
   "title_cell": "Table of Contents",
   "title_sidebar": "Contents",
   "toc_cell": false,
   "toc_position": {},
   "toc_section_display": true,
   "toc_window_display": false
  },
  "varInspector": {
   "cols": {
    "lenName": 16,
    "lenType": 16,
    "lenVar": 40
   },
   "kernels_config": {
    "python": {
     "delete_cmd_postfix": "",
     "delete_cmd_prefix": "del ",
     "library": "var_list.py",
     "varRefreshCmd": "print(var_dic_list())"
    },
    "r": {
     "delete_cmd_postfix": ") ",
     "delete_cmd_prefix": "rm(",
     "library": "var_list.r",
     "varRefreshCmd": "cat(var_dic_list()) "
    }
   },
   "types_to_exclude": [
    "module",
    "function",
    "builtin_function_or_method",
    "instance",
    "_Feature"
   ],
   "window_display": false
  }
 },
 "nbformat": 4,
 "nbformat_minor": 2
}
